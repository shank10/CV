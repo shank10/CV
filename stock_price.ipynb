{
  "nbformat": 4,
  "nbformat_minor": 0,
  "metadata": {
    "colab": {
      "name": "stock_price.ipynb",
      "provenance": [],
      "collapsed_sections": [],
      "authorship_tag": "ABX9TyNCO7PyrKhYDr+N03mIHbQG",
      "include_colab_link": true
    },
    "kernelspec": {
      "name": "python3",
      "display_name": "Python 3"
    }
  },
  "cells": [
    {
      "cell_type": "markdown",
      "metadata": {
        "id": "view-in-github",
        "colab_type": "text"
      },
      "source": [
        "<a href=\"https://colab.research.google.com/github/shank10/CV/blob/master/stock_price.ipynb\" target=\"_parent\"><img src=\"https://colab.research.google.com/assets/colab-badge.svg\" alt=\"Open In Colab\"/></a>"
      ]
    },
    {
      "cell_type": "code",
      "metadata": {
        "id": "D-t4HoqATbaF"
      },
      "source": [
        "from datetime import datetime, timedelta\r\n",
        "import pandas as pd\r\n",
        "import numpy as np\r\n",
        "import datetime\r\n",
        "import csv\r\n",
        "import pandas as pd\r\n",
        "from sklearn import preprocessing\r\n",
        "from sklearn.model_selection import train_test_split\r\n",
        "from sklearn.linear_model import LinearRegression"
      ],
      "execution_count": 38,
      "outputs": []
    },
    {
      "cell_type": "markdown",
      "metadata": {
        "id": "euyhDmGTBdjY"
      },
      "source": [
        "# New Section\r\n",
        "Download CSV from https://www1.nseindia.com/products/content/equities/equities/eq_security.htm for the symbol of interest"
      ]
    },
    {
      "cell_type": "code",
      "metadata": {
        "colab": {
          "base_uri": "https://localhost:8080/",
          "height": 306
        },
        "id": "UjDrug-leVBa",
        "outputId": "a39807dc-e24b-4634-f8be-4428e7cd8c91"
      },
      "source": [
        "df=pd.read_csv(\"/content/03-01-2019-TO-01-01-2021INFYALLN.csv\")\r\n",
        "df.head()"
      ],
      "execution_count": 52,
      "outputs": [
        {
          "output_type": "execute_result",
          "data": {
            "text/html": [
              "<div>\n",
              "<style scoped>\n",
              "    .dataframe tbody tr th:only-of-type {\n",
              "        vertical-align: middle;\n",
              "    }\n",
              "\n",
              "    .dataframe tbody tr th {\n",
              "        vertical-align: top;\n",
              "    }\n",
              "\n",
              "    .dataframe thead th {\n",
              "        text-align: right;\n",
              "    }\n",
              "</style>\n",
              "<table border=\"1\" class=\"dataframe\">\n",
              "  <thead>\n",
              "    <tr style=\"text-align: right;\">\n",
              "      <th></th>\n",
              "      <th>Symbol</th>\n",
              "      <th>Series</th>\n",
              "      <th>Date</th>\n",
              "      <th>Prev Close</th>\n",
              "      <th>Open Price</th>\n",
              "      <th>High Price</th>\n",
              "      <th>Low Price</th>\n",
              "      <th>Last Price</th>\n",
              "      <th>Close Price</th>\n",
              "      <th>Average Price</th>\n",
              "      <th>Total Traded Quantity</th>\n",
              "      <th>Turnover</th>\n",
              "      <th>No. of Trades</th>\n",
              "    </tr>\n",
              "  </thead>\n",
              "  <tbody>\n",
              "    <tr>\n",
              "      <th>0</th>\n",
              "      <td>INFY</td>\n",
              "      <td>EQ</td>\n",
              "      <td>03-Jan-2019</td>\n",
              "      <td>669.05</td>\n",
              "      <td>672.00</td>\n",
              "      <td>677.00</td>\n",
              "      <td>663.10</td>\n",
              "      <td>668.00</td>\n",
              "      <td>669.15</td>\n",
              "      <td>669.66</td>\n",
              "      <td>6827249</td>\n",
              "      <td>4.571929e+09</td>\n",
              "      <td>125781</td>\n",
              "    </tr>\n",
              "    <tr>\n",
              "      <th>1</th>\n",
              "      <td>INFY</td>\n",
              "      <td>EQ</td>\n",
              "      <td>04-Jan-2019</td>\n",
              "      <td>669.15</td>\n",
              "      <td>671.75</td>\n",
              "      <td>673.90</td>\n",
              "      <td>651.00</td>\n",
              "      <td>660.25</td>\n",
              "      <td>661.05</td>\n",
              "      <td>660.17</td>\n",
              "      <td>7889310</td>\n",
              "      <td>5.208305e+09</td>\n",
              "      <td>187590</td>\n",
              "    </tr>\n",
              "    <tr>\n",
              "      <th>2</th>\n",
              "      <td>INFY</td>\n",
              "      <td>EQ</td>\n",
              "      <td>07-Jan-2019</td>\n",
              "      <td>661.05</td>\n",
              "      <td>665.00</td>\n",
              "      <td>673.60</td>\n",
              "      <td>661.50</td>\n",
              "      <td>671.70</td>\n",
              "      <td>671.70</td>\n",
              "      <td>667.51</td>\n",
              "      <td>8046340</td>\n",
              "      <td>5.370974e+09</td>\n",
              "      <td>132736</td>\n",
              "    </tr>\n",
              "    <tr>\n",
              "      <th>3</th>\n",
              "      <td>INFY</td>\n",
              "      <td>EQ</td>\n",
              "      <td>08-Jan-2019</td>\n",
              "      <td>671.70</td>\n",
              "      <td>674.95</td>\n",
              "      <td>677.45</td>\n",
              "      <td>668.55</td>\n",
              "      <td>670.00</td>\n",
              "      <td>670.05</td>\n",
              "      <td>672.86</td>\n",
              "      <td>8621545</td>\n",
              "      <td>5.801123e+09</td>\n",
              "      <td>134369</td>\n",
              "    </tr>\n",
              "    <tr>\n",
              "      <th>4</th>\n",
              "      <td>INFY</td>\n",
              "      <td>EQ</td>\n",
              "      <td>09-Jan-2019</td>\n",
              "      <td>670.05</td>\n",
              "      <td>686.20</td>\n",
              "      <td>689.80</td>\n",
              "      <td>664.00</td>\n",
              "      <td>675.60</td>\n",
              "      <td>676.10</td>\n",
              "      <td>678.41</td>\n",
              "      <td>18130292</td>\n",
              "      <td>1.229974e+10</td>\n",
              "      <td>314702</td>\n",
              "    </tr>\n",
              "  </tbody>\n",
              "</table>\n",
              "</div>"
            ],
            "text/plain": [
              "  Symbol Series  ...      Turnover  No. of Trades\n",
              "0   INFY     EQ  ...  4.571929e+09         125781\n",
              "1   INFY     EQ  ...  5.208305e+09         187590\n",
              "2   INFY     EQ  ...  5.370974e+09         132736\n",
              "3   INFY     EQ  ...  5.801123e+09         134369\n",
              "4   INFY     EQ  ...  1.229974e+10         314702\n",
              "\n",
              "[5 rows x 13 columns]"
            ]
          },
          "metadata": {
            "tags": []
          },
          "execution_count": 52
        }
      ]
    },
    {
      "cell_type": "code",
      "metadata": {
        "colab": {
          "base_uri": "https://localhost:8080/"
        },
        "id": "kgJbd1IvCTry",
        "outputId": "a0c86bd0-1678-4d90-8e00-3e08a9b71d07"
      },
      "source": [
        "df.columns"
      ],
      "execution_count": 53,
      "outputs": [
        {
          "output_type": "execute_result",
          "data": {
            "text/plain": [
              "Index(['Symbol', 'Series', 'Date', 'Prev Close', 'Open Price', 'High Price',\n",
              "       'Low Price', 'Last Price', 'Close Price', 'Average Price',\n",
              "       'Total Traded Quantity', 'Turnover', 'No. of Trades'],\n",
              "      dtype='object')"
            ]
          },
          "metadata": {
            "tags": []
          },
          "execution_count": 53
        }
      ]
    },
    {
      "cell_type": "code",
      "metadata": {
        "colab": {
          "base_uri": "https://localhost:8080/"
        },
        "id": "ZbdGuuoXCXhN",
        "outputId": "3aec2892-fcf9-4645-91c4-332af96aad0e"
      },
      "source": [
        "df.shape"
      ],
      "execution_count": 54,
      "outputs": [
        {
          "output_type": "execute_result",
          "data": {
            "text/plain": [
              "(498, 13)"
            ]
          },
          "metadata": {
            "tags": []
          },
          "execution_count": 54
        }
      ]
    },
    {
      "cell_type": "code",
      "metadata": {
        "id": "zL3oOtNpIB1D"
      },
      "source": [
        "df_of_int = df[['Date', 'Prev Close', 'Open Price', 'High Price',\r\n",
        "       'Low Price', 'Last Price', 'Close Price']]"
      ],
      "execution_count": 60,
      "outputs": []
    },
    {
      "cell_type": "code",
      "metadata": {
        "colab": {
          "base_uri": "https://localhost:8080/"
        },
        "id": "CDVljOr2IOHC",
        "outputId": "c77e77ef-e336-49c6-9cad-5a3ad1fe887b"
      },
      "source": [
        "df_of_int.shape"
      ],
      "execution_count": 61,
      "outputs": [
        {
          "output_type": "execute_result",
          "data": {
            "text/plain": [
              "(498, 7)"
            ]
          },
          "metadata": {
            "tags": []
          },
          "execution_count": 61
        }
      ]
    },
    {
      "cell_type": "code",
      "metadata": {
        "id": "ZU1OEe5C7ZIu"
      },
      "source": [
        "def prepare_data(df,forecast_col,forecast_out,test_size):\r\n",
        "    label = df[forecast_col].shift(-forecast_out) #creating new column called label with the last 5 rows are nan\r\n",
        "    X = np.array(df[[forecast_col]]) #creating the feature array\r\n",
        "    X = preprocessing.scale(X) #processing the feature array\r\n",
        "    X_lately = X[-forecast_out:] #creating the column i want to use later in the predicting method\r\n",
        "    X = X[:-forecast_out] # X that will contain the training and testing\r\n",
        "    label.dropna(inplace=True) #dropping na values\r\n",
        "    y = np.array(label)  # assigning Y\r\n",
        "    X_train, X_test, Y_train, Y_test = train_test_split(X, y, test_size=test_size, random_state=0) #cross validation\r\n",
        "\r\n",
        "    response = [X_train,X_test , Y_train, Y_test , X_lately]\r\n",
        "    return response"
      ],
      "execution_count": 62,
      "outputs": []
    },
    {
      "cell_type": "code",
      "metadata": {
        "id": "wt6EH80b7qve"
      },
      "source": [
        "forecast_col = 'Close Price'\r\n",
        "forecast_out = 7\r\n",
        "test_size = 0.2"
      ],
      "execution_count": 63,
      "outputs": []
    },
    {
      "cell_type": "code",
      "metadata": {
        "colab": {
          "base_uri": "https://localhost:8080/"
        },
        "id": "qKz1o8JR8AJp",
        "outputId": "f810822a-40fa-4343-cd8a-37d04b33bab2"
      },
      "source": [
        "X_train, X_test, Y_train, Y_test , X_lately =prepare_data(df_of_int,forecast_col,forecast_out,test_size);\r\n",
        "learner = LinearRegression() #initializing linear regression model\r\n",
        "learner.fit(X_train,Y_train) #training the linear regression model"
      ],
      "execution_count": 64,
      "outputs": [
        {
          "output_type": "execute_result",
          "data": {
            "text/plain": [
              "LinearRegression(copy_X=True, fit_intercept=True, n_jobs=None, normalize=False)"
            ]
          },
          "metadata": {
            "tags": []
          },
          "execution_count": 64
        }
      ]
    },
    {
      "cell_type": "code",
      "metadata": {
        "colab": {
          "base_uri": "https://localhost:8080/"
        },
        "id": "hYyyik9u8TcE",
        "outputId": "8a3a765d-c1e9-4896-8456-3eb1d7ecf9c3"
      },
      "source": [
        "score=learner.score(X_test,Y_test)#testing the linear regression model\r\n",
        "forecast= learner.predict(X_lately) #set that will contain the forecasted data\r\n",
        "response={}#creting json object\r\n",
        "response['test_score']=score\r\n",
        "response['forecast_set']=forecast\r\n",
        "\r\n",
        "print(response)"
      ],
      "execution_count": 65,
      "outputs": [
        {
          "output_type": "stream",
          "text": [
            "{'test_score': 0.9539735721382508, 'forecast_set': array([1271.40341136, 1253.98087119, 1258.33650623, 1268.58505927,\n",
            "       1264.99806571, 1274.22176344, 1278.98734061])}\n"
          ],
          "name": "stdout"
        }
      ]
    }
  ]
}