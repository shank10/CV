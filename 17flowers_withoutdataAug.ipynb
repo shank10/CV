{
  "nbformat": 4,
  "nbformat_minor": 0,
  "metadata": {
    "colab": {
      "name": "17flowers_withoutdataAug.ipynb",
      "provenance": [],
      "toc_visible": true,
      "mount_file_id": "1NQlPQPLXytbioYFsPUutYy0bMRia835T",
      "authorship_tag": "ABX9TyO8RK0WH8NlNML/+jM1KFTb",
      "include_colab_link": true
    },
    "kernelspec": {
      "name": "python3",
      "display_name": "Python 3"
    }
  },
  "cells": [
    {
      "cell_type": "markdown",
      "metadata": {
        "id": "view-in-github",
        "colab_type": "text"
      },
      "source": [
        "<a href=\"https://colab.research.google.com/github/shank10/CV/blob/main/17flowers_withoutdataAug.ipynb\" target=\"_parent\"><img src=\"https://colab.research.google.com/assets/colab-badge.svg\" alt=\"Open In Colab\"/></a>"
      ]
    },
    {
      "cell_type": "code",
      "metadata": {
        "id": "VTYgXn456vx-"
      },
      "source": [
        ""
      ],
      "execution_count": null,
      "outputs": []
    }
  ]
}