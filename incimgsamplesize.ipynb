{
  "nbformat": 4,
  "nbformat_minor": 0,
  "metadata": {
    "colab": {
      "name": "incimgsamplesize.ipynb",
      "provenance": [],
      "mount_file_id": "1fd1xEKJvR5pY0eL1-aBTwuf9Qh3F3HEn",
      "authorship_tag": "ABX9TyOiS5Z9XmTJMmy10E1LvFnL",
      "include_colab_link": true
    },
    "kernelspec": {
      "name": "python3",
      "display_name": "Python 3"
    }
  },
  "cells": [
    {
      "cell_type": "markdown",
      "metadata": {
        "id": "view-in-github",
        "colab_type": "text"
      },
      "source": [
        "<a href=\"https://colab.research.google.com/github/shank10/CV/blob/main/incimgsamplesize.ipynb\" target=\"_parent\"><img src=\"https://colab.research.google.com/assets/colab-badge.svg\" alt=\"Open In Colab\"/></a>"
      ]
    },
    {
      "cell_type": "code",
      "metadata": {
        "id": "2BlJteo4o94z"
      },
      "source": [
        "from keras.preprocessing.image import ImageDataGenerator\n",
        "from keras.preprocessing.image import img_to_array\n",
        "from keras.preprocessing.image import load_img\n",
        "import numpy as np"
      ],
      "execution_count": null,
      "outputs": []
    },
    {
      "cell_type": "markdown",
      "metadata": {
        "id": "0TcomQVXq1tb"
      },
      "source": [
        "This sample program is used to generate more training data without distorting the image itself. ImageDataGenerator class from Keras – this code will be used for data augmentation and includes all relevant methods to help us transform our input image"
      ]
    },
    {
      "cell_type": "code",
      "metadata": {
        "id": "jWzV1Am-q7i4"
      },
      "source": [
        "image = load_img(\"dogs.jpg\")\n",
        "image = img_to_array(image)\n",
        "image = np.expand_dims(image, axis=0)\n",
        "# construct the image generator for data augmentation \n",
        "aug = ImageDataGenerator(rotation_range=30, width_shift_range=0.1,\n",
        "        height_shift_range=0.1, shear_range=0.3, zoom_range=0.3,\n",
        "        horizontal_flip=True, fill_mode=\"nearest\")"
      ],
      "execution_count": null,
      "outputs": []
    },
    {
      "cell_type": "markdown",
      "metadata": {
        "id": "V2DWwnICwHFN"
      },
      "source": [
        "The rotation_range parameter controls the degree range of the random rotations. Here we’ll allow our input image to be randomly rotated ± 30 degrees. Both the width_shift_range and height_shift_range are used for horizontal and vertical shifts, respectively. The parameter value is a fraction of the given dimension, in this case, 10%.\n",
        "\n",
        "The shear_range controls the angle in counterclockwise direction as radians in which our image will allowed to be sheared. We then have the zoom_range, a floating point value that allows the image to be “zoomed in” or “zoomed out” according to the following uniform distribution of values: [1 - zoom_range, 1 + zoom_range].\n",
        "\n",
        "Finally, the horizontal_flip boolean controls whether or not a given input is allowed to be flipped horizontally during the training process. For most computer vision applications a horizontal flip of an image does not change the resulting class label – but there are applications where a horizontal (or vertical) flip does change the semantic meaning of the image. Take care when applying this type of data augmentation as our goal is to slightly modify the input image, thereby generating a new training sample, without changing the class label itself."
      ]
    },
    {
      "cell_type": "code",
      "metadata": {
        "id": "LCGWfQ30weYB",
        "colab": {
          "base_uri": "https://localhost:8080/"
        },
        "outputId": "d2f9d955-bff1-40c4-b74e-68a46a6d27a9"
      },
      "source": [
        "# construct the actual Python generator\n",
        "print(\"[INFO] generating images...\")\n",
        "imageGen = aug.flow(image, batch_size=1, save_to_dir=\"/content/drive/MyDrive/colabout\",\n",
        "         save_prefix=\"dogs\", save_format=\"jpg\")\n",
        " \n",
        "# loop over examples from our image data augmentation generator\n",
        "total = 0\n",
        "for image in imageGen:\n",
        "    # increment our counter\n",
        "    total += 1 \n",
        "    # if we have reached 10 examples, break from the loop\n",
        "    if total == 10:\n",
        "        break"
      ],
      "execution_count": null,
      "outputs": [
        {
          "output_type": "stream",
          "text": [
            "[INFO] generating images...\n"
          ],
          "name": "stdout"
        }
      ]
    }
  ]
}